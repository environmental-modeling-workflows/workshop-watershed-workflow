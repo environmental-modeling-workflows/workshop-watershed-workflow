{
 "cells": [
  {
   "cell_type": "code",
   "execution_count": 17,
   "metadata": {},
   "outputs": [],
   "source": [
    "## Importing all the package needed to run teh watershed workflow\n",
    "\n",
    "import numpy as np\n",
    "from matplotlib import pyplot as plt\n",
    "import shapely\n",
    "import logging\n",
    "import copy"
   ]
  },
  {
   "cell_type": "code",
   "execution_count": 18,
   "metadata": {},
   "outputs": [],
   "source": [
    "import watershed_workflow \n",
    "import watershed_workflow.source_list\n",
    "import watershed_workflow.ui\n",
    "import watershed_workflow.utils\n",
    "import watershed_workflow.plot\n",
    "import watershed_workflow.mesh\n",
    "import watershed_workflow.densification\n",
    "import watershed_workflow.condition\n",
    "watershed_workflow.ui.setup_logging(1,None)\n",
    "crs=None"
   ]
  },
  {
   "cell_type": "markdown",
   "metadata": {},
   "source": [
    "# RiverTree\n",
    "\n",
    "<b> tree data structures, built on watershed_workflow.tinytree </b>"
   ]
  },
  {
   "cell_type": "markdown",
   "metadata": {},
   "source": [
    "### Construction"
   ]
  },
  {
   "cell_type": "markdown",
   "metadata": {},
   "source": [
    "Reaches are collection of `LineString` objects with coordnates ordere upstream to downstream"
   ]
  },
  {
   "cell_type": "code",
   "execution_count": 19,
   "metadata": {},
   "outputs": [],
   "source": [
    "reach1 = shapely.geometry.LineString([(4, 10), (4.01, 5.0), (4, 0)])\n",
    "reach2 = shapely.geometry.LineString([(1, 19), (2, 15.01), (4, 10)])\n",
    "reach3 = shapely.geometry.LineString([(8, 19), (6, 15.01), (4, 10)])\n",
    "reaches = [reach1, reach2, reach3]"
   ]
  },
  {
   "cell_type": "code",
   "execution_count": 20,
   "metadata": {},
   "outputs": [
    {
     "data": {
      "image/svg+xml": [
       "<svg xmlns=\"http://www.w3.org/2000/svg\" xmlns:xlink=\"http://www.w3.org/1999/xlink\" width=\"100.0\" height=\"100.0\" viewBox=\"3.6 -0.4 0.81 10.8\" preserveAspectRatio=\"xMinYMin meet\"><g transform=\"matrix(1,0,0,-1,0,10.0)\"><polyline fill=\"none\" stroke=\"#66cc99\" stroke-width=\"0.21600000000000003\" points=\"4.0,10.0 4.01,5.0 4.0,0.0\" opacity=\"0.8\" /></g></svg>"
      ],
      "text/plain": [
       "<shapely.geometry.linestring.LineString at 0x282933fd0>"
      ]
     },
     "execution_count": 20,
     "metadata": {},
     "output_type": "execute_result"
    }
   ],
   "source": [
    "reach1 # change to reach2 and reach3"
   ]
  },
  {
   "cell_type": "markdown",
   "metadata": {},
   "source": [
    "Rivers are constructed using collection of reaches using one of the two methods:\n",
    "\n",
    "1) `geometry` looks at coincident coordinates\n",
    "2) `hydroseq` valid only for NHDPlus data, this uses the  NHDPlus VAA tables Hydrologic Sequence. If using this method, get_reaches() must have been called with both\n",
    "  'HydrologicSequence' and 'DownstreamMainPathHydroSeq' properties requested (or properties=True)."
   ]
  },
  {
   "cell_type": "code",
   "execution_count": 21,
   "metadata": {},
   "outputs": [
    {
     "name": "stderr",
     "output_type": "stream",
     "text": [
      "2023-12-06 16:51:15,021 - root - INFO: \n",
      "2023-12-06 16:51:15,021 - root - INFO: Constructing river network\n",
      "2023-12-06 16:51:15,021 - root - INFO: ------------------------------\n",
      "2023-12-06 16:51:15,022 - root - INFO: Generating the river tree\n",
      "2023-12-06 16:51:15,023 - root - INFO:  ... generated 1 rivers\n"
     ]
    }
   ],
   "source": [
    "rivers = watershed_workflow.construct_rivers(reaches=reaches, method='geometry')"
   ]
  },
  {
   "cell_type": "code",
   "execution_count": 22,
   "metadata": {},
   "outputs": [
    {
     "data": {
      "image/png": "[encoded data removed]",
      "text/plain": [
       "<Figure size 300x300 with 1 Axes>"
      ]
     },
     "metadata": {},
     "output_type": "display_data"
    }
   ],
   "source": [
    "fig, ax = plt.subplots(1, 1, figsize=(3, 3))\n",
    "watershed_workflow.plot.rivers(rivers, ax=ax, crs=None, color='b')\n",
    "ax.set_aspect('equal', adjustable='box')\n"
   ]
  },
  {
   "cell_type": "markdown",
   "metadata": {},
   "source": [
    "### Traversing Tree Structure"
   ]
  },
  {
   "cell_type": "markdown",
   "metadata": {},
   "source": [
    "`RiverTree` is a composed of nodes. A single node in the River is also a `RiverTree` object, representing one reach and its upstream children."
   ]
  },
  {
   "cell_type": "markdown",
   "metadata": {},
   "source": [
    "We can access individial nodes and its \"relatives\""
   ]
  },
  {
   "cell_type": "code",
   "execution_count": 23,
   "metadata": {},
   "outputs": [
    {
     "data": {
      "image/png": "[encoded data removed]",
      "text/plain": [
       "<Figure size 300x300 with 1 Axes>"
      ]
     },
     "metadata": {},
     "output_type": "display_data"
    }
   ],
   "source": [
    "river = rivers[0]\n",
    "# acess individial node\n",
    "node  = list(river.preOrder())[1]  ##### CHANGE TO 0 and 2 #####\n",
    "\n",
    "fig, ax = plt.subplots(1, 1, figsize=(3,3))\n",
    "watershed_workflow.plot.river(node, ax=ax, crs=None, color='b')\n",
    "ax.set_aspect('equal', adjustable='box')"
   ]
  },
  {
   "cell_type": "code",
   "execution_count": 24,
   "metadata": {},
   "outputs": [
    {
     "name": "stdout",
     "output_type": "stream",
     "text": [
      "[<watershed_workflow.river_tree.River object at 0x28280f040>]\n"
     ]
    },
    {
     "data": {
      "image/png": "[encoded data removed]",
      "text/plain": [
       "<Figure size 300x300 with 1 Axes>"
      ]
     },
     "metadata": {},
     "output_type": "display_data"
    }
   ],
   "source": [
    "siblings = list(node.siblings()); print(siblings)\n",
    "\n",
    "fig, ax = plt.subplots(1, 1, figsize=(3,3))\n",
    "watershed_workflow.plot.river(siblings[0], ax=ax, crs=None, color='b')\n",
    "ax.set_aspect('equal', adjustable='box')"
   ]
  },
  {
   "cell_type": "code",
   "execution_count": 25,
   "metadata": {},
   "outputs": [
    {
     "data": {
      "image/png": "[encoded data removed]",
      "text/plain": [
       "<Figure size 300x300 with 1 Axes>"
      ]
     },
     "metadata": {},
     "output_type": "display_data"
    }
   ],
   "source": [
    "parent = node.parent\n",
    "\n",
    "fig, ax = plt.subplots(1, 1, figsize=(3, 3))\n",
    "watershed_workflow.plot.river(parent, ax=ax, crs=None, color='b')\n",
    "ax.set_aspect('equal', adjustable='box')"
   ]
  },
  {
   "cell_type": "code",
   "execution_count": 26,
   "metadata": {},
   "outputs": [
    {
     "data": {
      "text/plain": [
       "[<watershed_workflow.river_tree.River at 0x280f0d060>,\n",
       " <watershed_workflow.river_tree.River at 0x28280f040>]"
      ]
     },
     "execution_count": 26,
     "metadata": {},
     "output_type": "execute_result"
    }
   ],
   "source": [
    "list(parent.children)"
   ]
  },
  {
   "cell_type": "markdown",
   "metadata": {},
   "source": [
    "### Node and Segment"
   ]
  },
  {
   "cell_type": "markdown",
   "metadata": {},
   "source": [
    "While single node which is a `RiverTree` object represent one reach and its upstream children, node.segment gives the `LineString` for this one reach only"
   ]
  },
  {
   "cell_type": "code",
   "execution_count": 27,
   "metadata": {},
   "outputs": [
    {
     "name": "stdout",
     "output_type": "stream",
     "text": [
      "<class 'watershed_workflow.river_tree.River'>\n",
      "<class 'shapely.geometry.linestring.LineString'>\n"
     ]
    },
    {
     "data": {
      "image/png": "[encoded data removed]",
      "text/plain": [
       "<Figure size 300x300 with 1 Axes>"
      ]
     },
     "metadata": {},
     "output_type": "display_data"
    }
   ],
   "source": [
    "## Let's plot node and its reach segment for first node of the river tree\n",
    "node = list(river.preOrder())[0]; print(type(node))\n",
    "\n",
    "reach_seg = node.segment; print(type(reach_seg))\n",
    "\n",
    "\n",
    "fig, ax = plt.subplots(1, 1, figsize=(3, 3))\n",
    "watershed_workflow.plot.river(node, ax=ax, crs=None, color='b') \n",
    "watershed_workflow.plot.shply(reach_seg , ax=ax, crs=None, color='r', linestyle='--')\n",
    "ax.set_aspect('equal', adjustable='box')\n"
   ]
  },
  {
   "cell_type": "markdown",
   "metadata": {},
   "source": [
    "### Editing River Tree"
   ]
  },
  {
   "cell_type": "code",
   "execution_count": 28,
   "metadata": {},
   "outputs": [
    {
     "data": {
      "image/png": "[encoded data removed]",
      "text/plain": [
       "<Figure size 300x300 with 1 Axes>"
      ]
     },
     "metadata": {},
     "output_type": "display_data"
    }
   ],
   "source": [
    "## Plotting three reach segments of the river tree\n",
    "river = rivers[0]\n",
    "colors = ['b', 'g', 'r']\n",
    "\n",
    "fig, ax = plt.subplots(1, 1, figsize=(3, 3))\n",
    "\n",
    "for i, node in enumerate(river.preOrder()):\n",
    "    watershed_workflow.plot.rivers(node, ax=ax, crs=None, color=colors[i])\n",
    "    x,y=node.segment.xy \n",
    "    ax.plot(x,y,'-o',markersize=5, color=colors[i])\n",
    "ax.set_aspect('equal', adjustable='box')"
   ]
  },
  {
   "cell_type": "markdown",
   "metadata": {},
   "source": [
    "Let's try to make green reach shorter"
   ]
  },
  {
   "cell_type": "code",
   "execution_count": 29,
   "metadata": {},
   "outputs": [
    {
     "name": "stdout",
     "output_type": "stream",
     "text": [
      "<class 'shapely.geometry.linestring.LineString'>\n"
     ]
    }
   ],
   "source": [
    "# access node for reach to be edited \n",
    "node  = list(river.preOrder())[1]\n",
    "\n",
    "# acess LineString for the reach\n",
    "seg = node.segment; print(type(seg))"
   ]
  },
  {
   "cell_type": "code",
   "execution_count": 30,
   "metadata": {},
   "outputs": [
    {
     "name": "stdout",
     "output_type": "stream",
     "text": [
      "[(1.0, 19.0), (2.0, 15.01), (4.0, 10.0)]\n",
      "[(2.0, 15.01), (4.0, 10.0)]\n"
     ]
    }
   ],
   "source": [
    "## change the LineString\n",
    "\n",
    "# get coordinates\n",
    "seg_coords = seg.coords[:]; print(seg_coords)\n",
    "\n",
    "# update coordinates\n",
    "seg_coords_new = seg_coords[1:]; print(seg_coords_new)\n",
    "\n",
    "# create new LineString\n",
    "seg_new = shapely.geometry.LineString(seg_coords_new)\n",
    "\n",
    "# update the reach segment in the RiverTree\n",
    "node.segment = seg_new"
   ]
  },
  {
   "cell_type": "code",
   "execution_count": 31,
   "metadata": {},
   "outputs": [
    {
     "data": {
      "image/png": "[encoded data removed]",
      "text/plain": [
       "<Figure size 300x300 with 1 Axes>"
      ]
     },
     "metadata": {},
     "output_type": "display_data"
    }
   ],
   "source": [
    "# plot the updated river tree\n",
    "fig, ax = plt.subplots(1, 1, figsize=(3, 3))\n",
    "\n",
    "for i, node in enumerate(river.preOrder()):\n",
    "    watershed_workflow.plot.rivers(node, ax=ax, crs=None, color=colors[i])\n",
    "    x,y=node.segment.xy \n",
    "    ax.plot(x,y,'-o',markersize=5, color=colors[i])\n",
    "ax.set_aspect('equal', adjustable='box')"
   ]
  },
  {
   "cell_type": "markdown",
   "metadata": {},
   "source": [
    "# SplitHucs \n",
    "\n",
    "<b> Class for dealing with the multiple interacting views of HUCs </b>"
   ]
  },
  {
   "cell_type": "code",
   "execution_count": 32,
   "metadata": {},
   "outputs": [],
   "source": [
    "# edges of huc boundary\n",
    "edge1 = [[x, 0] for x in np.arange(0, 20, 4)]\n",
    "edge2 = [[16, y] for y in np.arange(4, 24, 4)]\n",
    "edge3 = [[x, 20] for x in np.arange(12, -4, -4)]\n",
    "edge4 = [[0, y] for y in np.arange(16, 0, -4)]"
   ]
  },
  {
   "cell_type": "code",
   "execution_count": 33,
   "metadata": {},
   "outputs": [],
   "source": [
    "seg1 = shapely.geometry.LineString([[16, 4], [16, 8], [16, 12], [16, 16], [16, 20], [12, 20], [8, 20], [4, 20], [0, 20], [0, 16], [0, 12], [0, 8], [0, 4], [0, 0], [4, 0]])\n",
    "seg2 = shapely.geometry.LineString([[4,0],[8, 0], [12, 0], [16, 0],[16, 4]])"
   ]
  },
  {
   "cell_type": "code",
   "execution_count": 34,
   "metadata": {},
   "outputs": [
    {
     "name": "stderr",
     "output_type": "stream",
     "text": [
      "2023-12-06 16:51:15,370 - root - INFO: Removing holes on 1 polygons\n",
      "2023-12-06 16:51:15,371 - root - INFO:   -- removed interior\n",
      "2023-12-06 16:51:15,371 - root - INFO:   -- union\n",
      "2023-12-06 16:51:15,372 - root - INFO: Parsing 1 components for holes\n",
      "2023-12-06 16:51:15,372 - root - INFO:   -- complete\n"
     ]
    }
   ],
   "source": [
    "ws = shapely.geometry.Polygon(seg1.coords[:]+seg2.coords[:])\n",
    "watershed = watershed_workflow.split_hucs.SplitHUCs([ws])"
   ]
  },
  {
   "cell_type": "code",
   "execution_count": 35,
   "metadata": {},
   "outputs": [
    {
     "data": {
      "image/png": "[encoded data removed]",
      "text/plain": [
       "<Figure size 350x350 with 1 Axes>"
      ]
     },
     "metadata": {},
     "output_type": "display_data"
    }
   ],
   "source": [
    "fig, ax = plt.subplots(1, 1, figsize=(3.5, 3.5))\n",
    "watershed_workflow.plot.rivers(rivers, ax=ax, crs=None, color='b')\n",
    "watershed_workflow.plot.hucs(watershed, ax=ax, crs=None, color='k')\n",
    "ax.set_aspect('equal', adjustable='box')"
   ]
  },
  {
   "cell_type": "markdown",
   "metadata": {},
   "source": [
    "### HUC Segments"
   ]
  },
  {
   "cell_type": "code",
   "execution_count": 36,
   "metadata": {},
   "outputs": [
    {
     "data": {
      "text/plain": [
       "[<shapely.geometry.linestring.LineString at 0x282ab3760>]"
      ]
     },
     "execution_count": 36,
     "metadata": {},
     "output_type": "execute_result"
    }
   ],
   "source": [
    "list(watershed.segments)"
   ]
  },
  {
   "cell_type": "code",
   "execution_count": null,
   "metadata": {},
   "outputs": [],
   "source": []
  },
  {
   "cell_type": "code",
   "execution_count": null,
   "metadata": {},
   "outputs": [],
   "source": []
  },
  {
   "cell_type": "code",
   "execution_count": null,
   "metadata": {},
   "outputs": [],
   "source": []
  },
  {
   "cell_type": "code",
   "execution_count": null,
   "metadata": {},
   "outputs": [],
   "source": []
  }
 ],
 "metadata": {
  "kernelspec": {
   "display_name": "watershed_workflow-2022-08-29",
   "language": "python",
   "name": "python3"
  },
  "language_info": {
   "codemirror_mode": {
    "name": "ipython",
    "version": 3
   },
   "file_extension": ".py",
   "mimetype": "text/x-python",
   "name": "python",
   "nbconvert_exporter": "python",
   "pygments_lexer": "ipython3",
   "version": "3.10.6"
  }
 },
 "nbformat": 4,
 "nbformat_minor": 4
}
